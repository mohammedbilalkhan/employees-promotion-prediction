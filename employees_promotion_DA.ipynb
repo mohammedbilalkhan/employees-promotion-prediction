{
 "cells": [
  {
   "cell_type": "code",
   "execution_count": 1,
   "metadata": {},
   "outputs": [
    {
     "name": "stderr",
     "output_type": "stream",
     "text": [
      "c:\\Users\\bkhan\\AppData\\Local\\Programs\\Python\\Python39\\lib\\site-packages\\scipy\\__init__.py:155: UserWarning: A NumPy version >=1.18.5 and <1.25.0 is required for this version of SciPy (detected version 1.26.1\n",
      "  warnings.warn(f\"A NumPy version >={np_minversion} and <{np_maxversion}\"\n"
     ]
    }
   ],
   "source": [
    "import pandas as pd\n",
    "import numpy as np\n",
    "import matplotlib.pyplot as plt\n",
    "import seaborn as sns"
   ]
  },
  {
   "cell_type": "code",
   "execution_count": 2,
   "metadata": {},
   "outputs": [],
   "source": [
    "from sklearn.linear_model import LogisticRegression\n",
    "from sklearn.model_selection import train_test_split\n",
    "from sklearn.preprocessing import StandardScaler\n",
    "from sklearn.pipeline import make_pipeline\n",
    "from sklearn.metrics import accuracy_score, confusion_matrix, classification_report, recall_score\n",
    "from sklearn.metrics import ConfusionMatrixDisplay"
   ]
  },
  {
   "cell_type": "code",
   "execution_count": 233,
   "metadata": {},
   "outputs": [
    {
     "data": {
      "text/html": [
       "<div>\n",
       "<style scoped>\n",
       "    .dataframe tbody tr th:only-of-type {\n",
       "        vertical-align: middle;\n",
       "    }\n",
       "\n",
       "    .dataframe tbody tr th {\n",
       "        vertical-align: top;\n",
       "    }\n",
       "\n",
       "    .dataframe thead th {\n",
       "        text-align: right;\n",
       "    }\n",
       "</style>\n",
       "<table border=\"1\" class=\"dataframe\">\n",
       "  <thead>\n",
       "    <tr style=\"text-align: right;\">\n",
       "      <th></th>\n",
       "      <th>EmployeeID</th>\n",
       "      <th>Department</th>\n",
       "      <th>Region_Employment</th>\n",
       "      <th>Education Level</th>\n",
       "      <th>Gender</th>\n",
       "      <th>Recruitment Channel</th>\n",
       "      <th>NO_Trainings_LstYear</th>\n",
       "      <th>Age</th>\n",
       "      <th>previous_year_rating</th>\n",
       "      <th>Service Length</th>\n",
       "      <th>Awards</th>\n",
       "      <th>Avg_Training_Score</th>\n",
       "      <th>Is Promoted</th>\n",
       "    </tr>\n",
       "  </thead>\n",
       "  <tbody>\n",
       "    <tr>\n",
       "      <th>0</th>\n",
       "      <td>65438</td>\n",
       "      <td>Sales &amp; Marketing</td>\n",
       "      <td>7</td>\n",
       "      <td>Master's &amp; above</td>\n",
       "      <td>f</td>\n",
       "      <td>sourcing</td>\n",
       "      <td>1</td>\n",
       "      <td>35.0</td>\n",
       "      <td>5.0</td>\n",
       "      <td>8</td>\n",
       "      <td>NO</td>\n",
       "      <td>49.0</td>\n",
       "      <td>NO</td>\n",
       "    </tr>\n",
       "    <tr>\n",
       "      <th>1</th>\n",
       "      <td>65141</td>\n",
       "      <td>Operations</td>\n",
       "      <td>22</td>\n",
       "      <td>Bachelor's</td>\n",
       "      <td>m</td>\n",
       "      <td>other</td>\n",
       "      <td>1</td>\n",
       "      <td>30.0</td>\n",
       "      <td>5.0</td>\n",
       "      <td>4</td>\n",
       "      <td>NO</td>\n",
       "      <td>60.0</td>\n",
       "      <td>NO</td>\n",
       "    </tr>\n",
       "    <tr>\n",
       "      <th>2</th>\n",
       "      <td>7513</td>\n",
       "      <td>Sales &amp; Marketing</td>\n",
       "      <td>19</td>\n",
       "      <td>Bachelor's</td>\n",
       "      <td>m</td>\n",
       "      <td>sourcing</td>\n",
       "      <td>1</td>\n",
       "      <td>34.0</td>\n",
       "      <td>3.0</td>\n",
       "      <td>7</td>\n",
       "      <td>NO</td>\n",
       "      <td>50.0</td>\n",
       "      <td>NO</td>\n",
       "    </tr>\n",
       "    <tr>\n",
       "      <th>3</th>\n",
       "      <td>2542</td>\n",
       "      <td>Sales &amp; Marketing</td>\n",
       "      <td>23</td>\n",
       "      <td>Bachelor's</td>\n",
       "      <td>m</td>\n",
       "      <td>other</td>\n",
       "      <td>2</td>\n",
       "      <td>39.0</td>\n",
       "      <td>1.0</td>\n",
       "      <td>10</td>\n",
       "      <td>NO</td>\n",
       "      <td>50.0</td>\n",
       "      <td>NO</td>\n",
       "    </tr>\n",
       "    <tr>\n",
       "      <th>4</th>\n",
       "      <td>48945</td>\n",
       "      <td>Technology</td>\n",
       "      <td>26</td>\n",
       "      <td>Bachelor's</td>\n",
       "      <td>m</td>\n",
       "      <td>other</td>\n",
       "      <td>1</td>\n",
       "      <td>45.0</td>\n",
       "      <td>3.0</td>\n",
       "      <td>2</td>\n",
       "      <td>NO</td>\n",
       "      <td>73.0</td>\n",
       "      <td>NO</td>\n",
       "    </tr>\n",
       "  </tbody>\n",
       "</table>\n",
       "</div>"
      ],
      "text/plain": [
       "   EmployeeID         Department  Region_Employment   Education Level Gender  \\\n",
       "0       65438  Sales & Marketing                  7  Master's & above      f   \n",
       "1       65141         Operations                 22        Bachelor's      m   \n",
       "2        7513  Sales & Marketing                 19        Bachelor's      m   \n",
       "3        2542  Sales & Marketing                 23        Bachelor's      m   \n",
       "4       48945         Technology                 26        Bachelor's      m   \n",
       "\n",
       "  Recruitment Channel  NO_Trainings_LstYear   Age  previous_year_rating  \\\n",
       "0            sourcing                     1  35.0                   5.0   \n",
       "1               other                     1  30.0                   5.0   \n",
       "2            sourcing                     1  34.0                   3.0   \n",
       "3               other                     2  39.0                   1.0   \n",
       "4               other                     1  45.0                   3.0   \n",
       "\n",
       "   Service Length Awards  Avg_Training_Score Is Promoted  \n",
       "0               8     NO                49.0          NO  \n",
       "1               4     NO                60.0          NO  \n",
       "2               7     NO                50.0          NO  \n",
       "3              10     NO                50.0          NO  \n",
       "4               2     NO                73.0          NO  "
      ]
     },
     "execution_count": 233,
     "metadata": {},
     "output_type": "execute_result"
    }
   ],
   "source": [
    "df = pd.read_csv(\"Employees Promotion.csv\")    # loading employee promotion.csv data from day09-project s3 bucket.\n",
    "df.head()"
   ]
  },
  {
   "cell_type": "markdown",
   "metadata": {},
   "source": [
    "### Analysing Data"
   ]
  },
  {
   "cell_type": "code",
   "execution_count": 234,
   "metadata": {},
   "outputs": [
    {
     "name": "stdout",
     "output_type": "stream",
     "text": [
      "<class 'pandas.core.frame.DataFrame'>\n",
      "RangeIndex: 54808 entries, 0 to 54807\n",
      "Data columns (total 13 columns):\n",
      " #   Column                Non-Null Count  Dtype  \n",
      "---  ------                --------------  -----  \n",
      " 0   EmployeeID            54808 non-null  int64  \n",
      " 1   Department            54808 non-null  object \n",
      " 2   Region_Employment     54808 non-null  int64  \n",
      " 3   Education Level       52399 non-null  object \n",
      " 4   Gender                54808 non-null  object \n",
      " 5   Recruitment Channel   44404 non-null  object \n",
      " 6   NO_Trainings_LstYear  54808 non-null  int64  \n",
      " 7   Age                   54268 non-null  float64\n",
      " 8   previous_year_rating  50684 non-null  float64\n",
      " 9   Service Length        54808 non-null  int64  \n",
      " 10  Awards                54808 non-null  object \n",
      " 11  Avg_Training_Score    52248 non-null  float64\n",
      " 12  Is Promoted           54808 non-null  object \n",
      "dtypes: float64(3), int64(4), object(6)\n",
      "memory usage: 5.4+ MB\n"
     ]
    }
   ],
   "source": [
    "df.info()   # checking data types, dimensions of df"
   ]
  },
  {
   "cell_type": "code",
   "execution_count": 235,
   "metadata": {},
   "outputs": [
    {
     "data": {
      "text/html": [
       "<div>\n",
       "<style scoped>\n",
       "    .dataframe tbody tr th:only-of-type {\n",
       "        vertical-align: middle;\n",
       "    }\n",
       "\n",
       "    .dataframe tbody tr th {\n",
       "        vertical-align: top;\n",
       "    }\n",
       "\n",
       "    .dataframe thead th {\n",
       "        text-align: right;\n",
       "    }\n",
       "</style>\n",
       "<table border=\"1\" class=\"dataframe\">\n",
       "  <thead>\n",
       "    <tr style=\"text-align: right;\">\n",
       "      <th></th>\n",
       "      <th>EmployeeID</th>\n",
       "      <th>Region_Employment</th>\n",
       "      <th>NO_Trainings_LstYear</th>\n",
       "      <th>Age</th>\n",
       "      <th>previous_year_rating</th>\n",
       "      <th>Service Length</th>\n",
       "      <th>Avg_Training_Score</th>\n",
       "    </tr>\n",
       "  </thead>\n",
       "  <tbody>\n",
       "    <tr>\n",
       "      <th>count</th>\n",
       "      <td>54808.000000</td>\n",
       "      <td>54808.000000</td>\n",
       "      <td>54808.000000</td>\n",
       "      <td>54268.000000</td>\n",
       "      <td>50684.000000</td>\n",
       "      <td>54808.000000</td>\n",
       "      <td>52248.000000</td>\n",
       "    </tr>\n",
       "    <tr>\n",
       "      <th>mean</th>\n",
       "      <td>39195.830627</td>\n",
       "      <td>14.195045</td>\n",
       "      <td>1.253011</td>\n",
       "      <td>34.586644</td>\n",
       "      <td>3.329256</td>\n",
       "      <td>5.865512</td>\n",
       "      <td>63.712238</td>\n",
       "    </tr>\n",
       "    <tr>\n",
       "      <th>std</th>\n",
       "      <td>22586.581449</td>\n",
       "      <td>10.086273</td>\n",
       "      <td>0.609264</td>\n",
       "      <td>8.114136</td>\n",
       "      <td>1.259993</td>\n",
       "      <td>4.265094</td>\n",
       "      <td>13.521910</td>\n",
       "    </tr>\n",
       "    <tr>\n",
       "      <th>min</th>\n",
       "      <td>1.000000</td>\n",
       "      <td>1.000000</td>\n",
       "      <td>1.000000</td>\n",
       "      <td>0.000000</td>\n",
       "      <td>1.000000</td>\n",
       "      <td>1.000000</td>\n",
       "      <td>39.000000</td>\n",
       "    </tr>\n",
       "    <tr>\n",
       "      <th>25%</th>\n",
       "      <td>19669.750000</td>\n",
       "      <td>4.000000</td>\n",
       "      <td>1.000000</td>\n",
       "      <td>29.000000</td>\n",
       "      <td>3.000000</td>\n",
       "      <td>3.000000</td>\n",
       "      <td>51.000000</td>\n",
       "    </tr>\n",
       "    <tr>\n",
       "      <th>50%</th>\n",
       "      <td>39225.500000</td>\n",
       "      <td>13.000000</td>\n",
       "      <td>1.000000</td>\n",
       "      <td>33.000000</td>\n",
       "      <td>3.000000</td>\n",
       "      <td>5.000000</td>\n",
       "      <td>60.000000</td>\n",
       "    </tr>\n",
       "    <tr>\n",
       "      <th>75%</th>\n",
       "      <td>58730.500000</td>\n",
       "      <td>22.000000</td>\n",
       "      <td>1.000000</td>\n",
       "      <td>39.000000</td>\n",
       "      <td>4.000000</td>\n",
       "      <td>7.000000</td>\n",
       "      <td>77.000000</td>\n",
       "    </tr>\n",
       "    <tr>\n",
       "      <th>max</th>\n",
       "      <td>78298.000000</td>\n",
       "      <td>34.000000</td>\n",
       "      <td>10.000000</td>\n",
       "      <td>60.000000</td>\n",
       "      <td>5.000000</td>\n",
       "      <td>37.000000</td>\n",
       "      <td>99.000000</td>\n",
       "    </tr>\n",
       "  </tbody>\n",
       "</table>\n",
       "</div>"
      ],
      "text/plain": [
       "         EmployeeID  Region_Employment  NO_Trainings_LstYear           Age  \\\n",
       "count  54808.000000       54808.000000          54808.000000  54268.000000   \n",
       "mean   39195.830627          14.195045              1.253011     34.586644   \n",
       "std    22586.581449          10.086273              0.609264      8.114136   \n",
       "min        1.000000           1.000000              1.000000      0.000000   \n",
       "25%    19669.750000           4.000000              1.000000     29.000000   \n",
       "50%    39225.500000          13.000000              1.000000     33.000000   \n",
       "75%    58730.500000          22.000000              1.000000     39.000000   \n",
       "max    78298.000000          34.000000             10.000000     60.000000   \n",
       "\n",
       "       previous_year_rating  Service Length  Avg_Training_Score  \n",
       "count          50684.000000    54808.000000        52248.000000  \n",
       "mean               3.329256        5.865512           63.712238  \n",
       "std                1.259993        4.265094           13.521910  \n",
       "min                1.000000        1.000000           39.000000  \n",
       "25%                3.000000        3.000000           51.000000  \n",
       "50%                3.000000        5.000000           60.000000  \n",
       "75%                4.000000        7.000000           77.000000  \n",
       "max                5.000000       37.000000           99.000000  "
      ]
     },
     "execution_count": 235,
     "metadata": {},
     "output_type": "execute_result"
    }
   ],
   "source": [
    "df.describe()    # stats of the df"
   ]
  },
  {
   "cell_type": "code",
   "execution_count": 236,
   "metadata": {},
   "outputs": [
    {
     "data": {
      "text/plain": [
       "(54808, 13)"
      ]
     },
     "execution_count": 236,
     "metadata": {},
     "output_type": "execute_result"
    }
   ],
   "source": [
    "df.shape    # dimesnsions of the df"
   ]
  },
  {
   "cell_type": "code",
   "execution_count": 237,
   "metadata": {},
   "outputs": [
    {
     "data": {
      "text/plain": [
       "0"
      ]
     },
     "execution_count": 237,
     "metadata": {},
     "output_type": "execute_result"
    }
   ],
   "source": [
    "df.duplicated().sum()    # checking any duplicated values in the df"
   ]
  },
  {
   "cell_type": "code",
   "execution_count": 238,
   "metadata": {},
   "outputs": [
    {
     "data": {
      "text/plain": [
       "EmployeeID                  0\n",
       "Department                  0\n",
       "Region_Employment           0\n",
       "Education Level          2409\n",
       "Gender                      0\n",
       "Recruitment Channel     10404\n",
       "NO_Trainings_LstYear        0\n",
       "Age                       540\n",
       "previous_year_rating     4124\n",
       "Service Length              0\n",
       "Awards                      0\n",
       "Avg_Training_Score       2560\n",
       "Is Promoted                 0\n",
       "dtype: int64"
      ]
     },
     "execution_count": 238,
     "metadata": {},
     "output_type": "execute_result"
    }
   ],
   "source": [
    "df.isnull().sum()    # checking total null values in each column"
   ]
  },
  {
   "cell_type": "code",
   "execution_count": 239,
   "metadata": {},
   "outputs": [
    {
     "data": {
      "text/plain": [
       "NO     50140\n",
       "YES     4668\n",
       "Name: Is Promoted, dtype: int64"
      ]
     },
     "execution_count": 239,
     "metadata": {},
     "output_type": "execute_result"
    }
   ],
   "source": [
    "df['Is Promoted'].value_counts()    # target column value counts"
   ]
  },
  {
   "cell_type": "markdown",
   "metadata": {},
   "source": [
    "### Cleaning and Engineering data"
   ]
  },
  {
   "cell_type": "code",
   "execution_count": 240,
   "metadata": {},
   "outputs": [],
   "source": [
    "df['Is Promoted'] = df['Is Promoted'].map({'YES': 1, 'NO': 0})    # mapping the target column values i.e. Yes and No to 1 and 0."
   ]
  },
  {
   "cell_type": "code",
   "execution_count": 241,
   "metadata": {},
   "outputs": [
    {
     "data": {
      "text/plain": [
       "array([\"Master's & above\", \"Bachelor's\", nan, 'Below Secondary'],\n",
       "      dtype=object)"
      ]
     },
     "execution_count": 241,
     "metadata": {},
     "output_type": "execute_result"
    }
   ],
   "source": [
    "df['Education Level'].unique()    # unique values of Education Level column"
   ]
  },
  {
   "cell_type": "code",
   "execution_count": 242,
   "metadata": {},
   "outputs": [
    {
     "data": {
      "text/plain": [
       "Bachelor's          36669\n",
       "Master's & above    14925\n",
       "Below Secondary       805\n",
       "Name: Education Level, dtype: int64"
      ]
     },
     "execution_count": 242,
     "metadata": {},
     "output_type": "execute_result"
    }
   ],
   "source": [
    "df['Education Level'].value_counts()    # Value counts of each values in the Education Level column."
   ]
  },
  {
   "cell_type": "code",
   "execution_count": 243,
   "metadata": {},
   "outputs": [
    {
     "data": {
      "text/plain": [
       "2409"
      ]
     },
     "execution_count": 243,
     "metadata": {},
     "output_type": "execute_result"
    }
   ],
   "source": [
    "df['Education Level'].isnull().sum()    # total null values in Education Level column"
   ]
  },
  {
   "cell_type": "code",
   "execution_count": 244,
   "metadata": {},
   "outputs": [],
   "source": [
    "df['Education Level'].fillna(method='ffill', inplace=True)    # using forward fill to fill null values"
   ]
  },
  {
   "cell_type": "code",
   "execution_count": 245,
   "metadata": {},
   "outputs": [
    {
     "data": {
      "text/plain": [
       "Bachelor's          38390\n",
       "Master's & above    15579\n",
       "Below Secondary       839\n",
       "Name: Education Level, dtype: int64"
      ]
     },
     "execution_count": 245,
     "metadata": {},
     "output_type": "execute_result"
    }
   ],
   "source": [
    "df['Education Level'].value_counts()    # now checking the count"
   ]
  },
  {
   "cell_type": "code",
   "execution_count": 246,
   "metadata": {},
   "outputs": [
    {
     "data": {
      "text/plain": [
       "0"
      ]
     },
     "execution_count": 246,
     "metadata": {},
     "output_type": "execute_result"
    }
   ],
   "source": [
    "df['Education Level'].isnull().sum()    # checking null values"
   ]
  },
  {
   "cell_type": "code",
   "execution_count": 247,
   "metadata": {},
   "outputs": [
    {
     "data": {
      "text/plain": [
       "array([35., 30., 34., 39., 45., 31., 33., 28., 32., 49., 37., 38., 41.,\n",
       "       27., 29., 26., 24., 57., 40., 42., 23., 59., nan, 50., 56., 20.,\n",
       "       25., 47., 36., 46., 44., 60.,  0., 43., 22., 54., 58., 48., 53.,\n",
       "       55., 51., 52., 21.])"
      ]
     },
     "execution_count": 247,
     "metadata": {},
     "output_type": "execute_result"
    }
   ],
   "source": [
    "df.Age.unique()    # unique values of age column"
   ]
  },
  {
   "cell_type": "code",
   "execution_count": 248,
   "metadata": {},
   "outputs": [
    {
     "data": {
      "text/plain": [
       "30.0    3597\n",
       "32.0    3479\n",
       "31.0    3474\n",
       "29.0    3352\n",
       "33.0    3157\n",
       "28.0    3103\n",
       "34.0    3017\n",
       "27.0    2784\n",
       "35.0    2673\n",
       "36.0    2482\n",
       "37.0    2134\n",
       "26.0    2019\n",
       "38.0    1894\n",
       "39.0    1660\n",
       "40.0    1634\n",
       "25.0    1283\n",
       "41.0    1265\n",
       "42.0    1133\n",
       "43.0     978\n",
       "44.0     834\n",
       "24.0     832\n",
       "45.0     749\n",
       "46.0     686\n",
       "48.0     554\n",
       "47.0     550\n",
       "50.0     516\n",
       "49.0     435\n",
       "23.0     419\n",
       "51.0     386\n",
       "53.0     354\n",
       "52.0     345\n",
       "0.0      340\n",
       "54.0     306\n",
       "55.0     285\n",
       "56.0     262\n",
       "57.0     234\n",
       "22.0     228\n",
       "60.0     214\n",
       "58.0     211\n",
       "59.0     202\n",
       "20.0     110\n",
       "21.0      98\n",
       "Name: Age, dtype: int64"
      ]
     },
     "execution_count": 248,
     "metadata": {},
     "output_type": "execute_result"
    }
   ],
   "source": [
    "df.Age.value_counts()    # value counts of age column"
   ]
  },
  {
   "cell_type": "code",
   "execution_count": 249,
   "metadata": {},
   "outputs": [],
   "source": [
    "df.Age.fillna(df['Age'].median(), inplace=True)    # filling the null values of age column using median of age column"
   ]
  },
  {
   "cell_type": "code",
   "execution_count": 250,
   "metadata": {},
   "outputs": [
    {
     "data": {
      "text/plain": [
       "array([ 5.,  3.,  1.,  4., nan,  2.])"
      ]
     },
     "execution_count": 250,
     "metadata": {},
     "output_type": "execute_result"
    }
   ],
   "source": [
    "df.previous_year_rating.unique()    # unique values of previous_year_rating column"
   ]
  },
  {
   "cell_type": "code",
   "execution_count": 251,
   "metadata": {},
   "outputs": [
    {
     "data": {
      "text/plain": [
       "3.0    18618\n",
       "5.0    11741\n",
       "4.0     9877\n",
       "1.0     6223\n",
       "2.0     4225\n",
       "Name: previous_year_rating, dtype: int64"
      ]
     },
     "execution_count": 251,
     "metadata": {},
     "output_type": "execute_result"
    }
   ],
   "source": [
    "df.previous_year_rating.value_counts()    # value counts of previous_year_rating col"
   ]
  },
  {
   "cell_type": "code",
   "execution_count": 252,
   "metadata": {
    "scrolled": false
   },
   "outputs": [],
   "source": [
    "df.previous_year_rating.fillna(df.previous_year_rating.median(), inplace=True)    # filling previous_year_rating col using its median"
   ]
  },
  {
   "cell_type": "code",
   "execution_count": 253,
   "metadata": {},
   "outputs": [
    {
     "data": {
      "text/plain": [
       "array([49., 60., 50., 73., 85., 59., 63., 83., 54., 77., 80., 84., 51.,\n",
       "       46., 75., 57., 70., 68., 79., 44., 72., nan, 48., 58., 87., 47.,\n",
       "       52., 88., 71., 65., 62., 53., 78., 91., 82., 69., 55., 74., 86.,\n",
       "       90., 92., 67., 89., 56., 76., 81., 64., 39., 94., 93., 66., 95.,\n",
       "       42., 96., 40., 99., 43., 97., 41., 98.])"
      ]
     },
     "execution_count": 253,
     "metadata": {},
     "output_type": "execute_result"
    }
   ],
   "source": [
    "df.Avg_Training_Score.unique()   # unique values of Avg_Training_Score col"
   ]
  },
  {
   "cell_type": "code",
   "execution_count": 254,
   "metadata": {},
   "outputs": [
    {
     "data": {
      "text/plain": [
       "50.0    2716\n",
       "49.0    2681\n",
       "48.0    2437\n",
       "51.0    2347\n",
       "60.0    2155\n",
       "59.0    2064\n",
       "58.0    1898\n",
       "52.0    1856\n",
       "47.0    1746\n",
       "62.0    1450\n",
       "82.0    1447\n",
       "57.0    1437\n",
       "81.0    1357\n",
       "53.0    1324\n",
       "80.0    1206\n",
       "83.0    1198\n",
       "84.0    1168\n",
       "79.0    1160\n",
       "46.0    1136\n",
       "85.0    1072\n",
       "56.0    1070\n",
       "70.0    1055\n",
       "63.0    1021\n",
       "69.0    1018\n",
       "54.0     997\n",
       "68.0     935\n",
       "78.0     933\n",
       "86.0     912\n",
       "71.0     898\n",
       "55.0     872\n",
       "67.0     728\n",
       "72.0     725\n",
       "64.0     708\n",
       "77.0     697\n",
       "87.0     655\n",
       "65.0     599\n",
       "66.0     580\n",
       "73.0     523\n",
       "76.0     516\n",
       "88.0     444\n",
       "74.0     433\n",
       "75.0     403\n",
       "44.0     335\n",
       "89.0     301\n",
       "90.0     185\n",
       "43.0     176\n",
       "91.0     117\n",
       "92.0      99\n",
       "93.0      84\n",
       "94.0      65\n",
       "42.0      62\n",
       "97.0      49\n",
       "96.0      48\n",
       "95.0      45\n",
       "98.0      37\n",
       "99.0      35\n",
       "41.0      26\n",
       "40.0       5\n",
       "39.0       2\n",
       "Name: Avg_Training_Score, dtype: int64"
      ]
     },
     "execution_count": 254,
     "metadata": {},
     "output_type": "execute_result"
    }
   ],
   "source": [
    "df.Avg_Training_Score.value_counts()   # value counts of Avg_Training_Score col"
   ]
  },
  {
   "cell_type": "code",
   "execution_count": 255,
   "metadata": {},
   "outputs": [],
   "source": [
    "df.Avg_Training_Score.fillna(df.Avg_Training_Score.median(), inplace=True)    # filling null values using Avg_Training_Score median values"
   ]
  },
  {
   "cell_type": "code",
   "execution_count": 256,
   "metadata": {
    "scrolled": true
   },
   "outputs": [],
   "source": [
    "df = df.drop(['EmployeeID', 'Gender', 'Service Length', 'Recruitment Channel'], axis=1)    # dropping these four columns"
   ]
  },
  {
   "cell_type": "code",
   "execution_count": 257,
   "metadata": {},
   "outputs": [
    {
     "data": {
      "text/html": [
       "<div>\n",
       "<style scoped>\n",
       "    .dataframe tbody tr th:only-of-type {\n",
       "        vertical-align: middle;\n",
       "    }\n",
       "\n",
       "    .dataframe tbody tr th {\n",
       "        vertical-align: top;\n",
       "    }\n",
       "\n",
       "    .dataframe thead th {\n",
       "        text-align: right;\n",
       "    }\n",
       "</style>\n",
       "<table border=\"1\" class=\"dataframe\">\n",
       "  <thead>\n",
       "    <tr style=\"text-align: right;\">\n",
       "      <th></th>\n",
       "      <th>Department</th>\n",
       "      <th>Region_Employment</th>\n",
       "      <th>Education Level</th>\n",
       "      <th>NO_Trainings_LstYear</th>\n",
       "      <th>Age</th>\n",
       "      <th>previous_year_rating</th>\n",
       "      <th>Awards</th>\n",
       "      <th>Avg_Training_Score</th>\n",
       "      <th>Is Promoted</th>\n",
       "    </tr>\n",
       "  </thead>\n",
       "  <tbody>\n",
       "    <tr>\n",
       "      <th>0</th>\n",
       "      <td>Sales &amp; Marketing</td>\n",
       "      <td>7</td>\n",
       "      <td>Master's &amp; above</td>\n",
       "      <td>1</td>\n",
       "      <td>35.0</td>\n",
       "      <td>5.0</td>\n",
       "      <td>NO</td>\n",
       "      <td>49.0</td>\n",
       "      <td>0</td>\n",
       "    </tr>\n",
       "    <tr>\n",
       "      <th>1</th>\n",
       "      <td>Operations</td>\n",
       "      <td>22</td>\n",
       "      <td>Bachelor's</td>\n",
       "      <td>1</td>\n",
       "      <td>30.0</td>\n",
       "      <td>5.0</td>\n",
       "      <td>NO</td>\n",
       "      <td>60.0</td>\n",
       "      <td>0</td>\n",
       "    </tr>\n",
       "    <tr>\n",
       "      <th>2</th>\n",
       "      <td>Sales &amp; Marketing</td>\n",
       "      <td>19</td>\n",
       "      <td>Bachelor's</td>\n",
       "      <td>1</td>\n",
       "      <td>34.0</td>\n",
       "      <td>3.0</td>\n",
       "      <td>NO</td>\n",
       "      <td>50.0</td>\n",
       "      <td>0</td>\n",
       "    </tr>\n",
       "    <tr>\n",
       "      <th>3</th>\n",
       "      <td>Sales &amp; Marketing</td>\n",
       "      <td>23</td>\n",
       "      <td>Bachelor's</td>\n",
       "      <td>2</td>\n",
       "      <td>39.0</td>\n",
       "      <td>1.0</td>\n",
       "      <td>NO</td>\n",
       "      <td>50.0</td>\n",
       "      <td>0</td>\n",
       "    </tr>\n",
       "    <tr>\n",
       "      <th>4</th>\n",
       "      <td>Technology</td>\n",
       "      <td>26</td>\n",
       "      <td>Bachelor's</td>\n",
       "      <td>1</td>\n",
       "      <td>45.0</td>\n",
       "      <td>3.0</td>\n",
       "      <td>NO</td>\n",
       "      <td>73.0</td>\n",
       "      <td>0</td>\n",
       "    </tr>\n",
       "  </tbody>\n",
       "</table>\n",
       "</div>"
      ],
      "text/plain": [
       "          Department  Region_Employment   Education Level  \\\n",
       "0  Sales & Marketing                  7  Master's & above   \n",
       "1         Operations                 22        Bachelor's   \n",
       "2  Sales & Marketing                 19        Bachelor's   \n",
       "3  Sales & Marketing                 23        Bachelor's   \n",
       "4         Technology                 26        Bachelor's   \n",
       "\n",
       "   NO_Trainings_LstYear   Age  previous_year_rating Awards  \\\n",
       "0                     1  35.0                   5.0     NO   \n",
       "1                     1  30.0                   5.0     NO   \n",
       "2                     1  34.0                   3.0     NO   \n",
       "3                     2  39.0                   1.0     NO   \n",
       "4                     1  45.0                   3.0     NO   \n",
       "\n",
       "   Avg_Training_Score  Is Promoted  \n",
       "0                49.0            0  \n",
       "1                60.0            0  \n",
       "2                50.0            0  \n",
       "3                50.0            0  \n",
       "4                73.0            0  "
      ]
     },
     "execution_count": 257,
     "metadata": {},
     "output_type": "execute_result"
    }
   ],
   "source": [
    "df.head()"
   ]
  },
  {
   "cell_type": "code",
   "execution_count": 258,
   "metadata": {},
   "outputs": [
    {
     "data": {
      "text/plain": [
       "6194"
      ]
     },
     "execution_count": 258,
     "metadata": {},
     "output_type": "execute_result"
    }
   ],
   "source": [
    "df.duplicated().sum()    # checking total duolicate values"
   ]
  },
  {
   "cell_type": "code",
   "execution_count": 259,
   "metadata": {},
   "outputs": [],
   "source": [
    "df.drop_duplicates(keep='first', inplace=True)    # dropping duplicates whuile keeping its first value"
   ]
  },
  {
   "cell_type": "code",
   "execution_count": 260,
   "metadata": {},
   "outputs": [
    {
     "data": {
      "text/plain": [
       "0"
      ]
     },
     "execution_count": 260,
     "metadata": {},
     "output_type": "execute_result"
    }
   ],
   "source": [
    "df.duplicated().sum()"
   ]
  },
  {
   "cell_type": "code",
   "execution_count": 261,
   "metadata": {},
   "outputs": [
    {
     "data": {
      "text/plain": [
       "0    44007\n",
       "1     4607\n",
       "Name: Is Promoted, dtype: int64"
      ]
     },
     "execution_count": 261,
     "metadata": {},
     "output_type": "execute_result"
    }
   ],
   "source": [
    "df['Is Promoted'].value_counts()"
   ]
  },
  {
   "cell_type": "code",
   "execution_count": 288,
   "metadata": {},
   "outputs": [],
   "source": [
    "# resampling class imbalance\n",
    "from sklearn.utils import resample\n",
    "#creating two different dataframe of majority and minority class \n",
    "df_majority = df[(df['Is Promoted']==0)] \n",
    "df_minority = df[(df['Is Promoted']==1)] \n",
    "# upsample minority class\n",
    "df_minority_upsampled = resample(df_minority, \n",
    "                                 replace=True,    \n",
    "                                 n_samples= 24000, # to match majority class\n",
    "                                 random_state=42)  \n",
    "# Combine majority class with upsampled minority class\n",
    "df2 = pd.concat([df_minority_upsampled, df_majority])"
   ]
  },
  {
   "cell_type": "code",
   "execution_count": 264,
   "metadata": {},
   "outputs": [
    {
     "data": {
      "text/plain": [
       "<AxesSubplot:xlabel='Is Promoted', ylabel='count'>"
      ]
     },
     "execution_count": 264,
     "metadata": {},
     "output_type": "execute_result"
    },
    {
     "data": {
      "image/png": "[encoded data removed]",
      "text/plain": [
       "<Figure size 640x480 with 1 Axes>"
      ]
     },
     "metadata": {},
     "output_type": "display_data"
    }
   ],
   "source": [
    "sns.countplot(x=df2['Is Promoted'], data=df2)    # countplot of target variable"
   ]
  },
  {
   "cell_type": "code",
   "execution_count": 265,
   "metadata": {},
   "outputs": [],
   "source": [
    "df = pd.get_dummies(df2, columns=['Department', 'Education Level', 'Awards'])    # getting dummies data of these columns\n"
   ]
  },
  {
   "cell_type": "code",
   "execution_count": 266,
   "metadata": {},
   "outputs": [
    {
     "data": {
      "text/html": [
       "<div>\n",
       "<style scoped>\n",
       "    .dataframe tbody tr th:only-of-type {\n",
       "        vertical-align: middle;\n",
       "    }\n",
       "\n",
       "    .dataframe tbody tr th {\n",
       "        vertical-align: top;\n",
       "    }\n",
       "\n",
       "    .dataframe thead th {\n",
       "        text-align: right;\n",
       "    }\n",
       "</style>\n",
       "<table border=\"1\" class=\"dataframe\">\n",
       "  <thead>\n",
       "    <tr style=\"text-align: right;\">\n",
       "      <th></th>\n",
       "      <th>Region_Employment</th>\n",
       "      <th>NO_Trainings_LstYear</th>\n",
       "      <th>Age</th>\n",
       "      <th>previous_year_rating</th>\n",
       "      <th>Avg_Training_Score</th>\n",
       "      <th>Is Promoted</th>\n",
       "      <th>Department_-</th>\n",
       "      <th>Department_Analytics</th>\n",
       "      <th>Department_Finance</th>\n",
       "      <th>Department_HR</th>\n",
       "      <th>...</th>\n",
       "      <th>Department_Operations</th>\n",
       "      <th>Department_Procurement</th>\n",
       "      <th>Department_R&amp;D</th>\n",
       "      <th>Department_Sales &amp; Marketing</th>\n",
       "      <th>Department_Technology</th>\n",
       "      <th>Education Level_Bachelor's</th>\n",
       "      <th>Education Level_Below Secondary</th>\n",
       "      <th>Education Level_Master's &amp; above</th>\n",
       "      <th>Awards_NO</th>\n",
       "      <th>Awards_YES</th>\n",
       "    </tr>\n",
       "  </thead>\n",
       "  <tbody>\n",
       "    <tr>\n",
       "      <th>9629</th>\n",
       "      <td>13</td>\n",
       "      <td>1</td>\n",
       "      <td>36.0</td>\n",
       "      <td>3.0</td>\n",
       "      <td>79.0</td>\n",
       "      <td>1</td>\n",
       "      <td>0</td>\n",
       "      <td>0</td>\n",
       "      <td>0</td>\n",
       "      <td>0</td>\n",
       "      <td>...</td>\n",
       "      <td>0</td>\n",
       "      <td>1</td>\n",
       "      <td>0</td>\n",
       "      <td>0</td>\n",
       "      <td>0</td>\n",
       "      <td>0</td>\n",
       "      <td>0</td>\n",
       "      <td>1</td>\n",
       "      <td>0</td>\n",
       "      <td>1</td>\n",
       "    </tr>\n",
       "    <tr>\n",
       "      <th>44881</th>\n",
       "      <td>4</td>\n",
       "      <td>1</td>\n",
       "      <td>31.0</td>\n",
       "      <td>5.0</td>\n",
       "      <td>85.0</td>\n",
       "      <td>1</td>\n",
       "      <td>0</td>\n",
       "      <td>0</td>\n",
       "      <td>0</td>\n",
       "      <td>0</td>\n",
       "      <td>...</td>\n",
       "      <td>0</td>\n",
       "      <td>0</td>\n",
       "      <td>0</td>\n",
       "      <td>0</td>\n",
       "      <td>1</td>\n",
       "      <td>0</td>\n",
       "      <td>0</td>\n",
       "      <td>1</td>\n",
       "      <td>1</td>\n",
       "      <td>0</td>\n",
       "    </tr>\n",
       "    <tr>\n",
       "      <th>37009</th>\n",
       "      <td>4</td>\n",
       "      <td>1</td>\n",
       "      <td>32.0</td>\n",
       "      <td>3.0</td>\n",
       "      <td>54.0</td>\n",
       "      <td>1</td>\n",
       "      <td>0</td>\n",
       "      <td>0</td>\n",
       "      <td>0</td>\n",
       "      <td>0</td>\n",
       "      <td>...</td>\n",
       "      <td>1</td>\n",
       "      <td>0</td>\n",
       "      <td>0</td>\n",
       "      <td>0</td>\n",
       "      <td>0</td>\n",
       "      <td>1</td>\n",
       "      <td>0</td>\n",
       "      <td>0</td>\n",
       "      <td>1</td>\n",
       "      <td>0</td>\n",
       "    </tr>\n",
       "    <tr>\n",
       "      <th>5101</th>\n",
       "      <td>4</td>\n",
       "      <td>1</td>\n",
       "      <td>34.0</td>\n",
       "      <td>5.0</td>\n",
       "      <td>58.0</td>\n",
       "      <td>1</td>\n",
       "      <td>0</td>\n",
       "      <td>0</td>\n",
       "      <td>1</td>\n",
       "      <td>0</td>\n",
       "      <td>...</td>\n",
       "      <td>0</td>\n",
       "      <td>0</td>\n",
       "      <td>0</td>\n",
       "      <td>0</td>\n",
       "      <td>0</td>\n",
       "      <td>0</td>\n",
       "      <td>0</td>\n",
       "      <td>1</td>\n",
       "      <td>1</td>\n",
       "      <td>0</td>\n",
       "    </tr>\n",
       "    <tr>\n",
       "      <th>52772</th>\n",
       "      <td>23</td>\n",
       "      <td>1</td>\n",
       "      <td>42.0</td>\n",
       "      <td>5.0</td>\n",
       "      <td>56.0</td>\n",
       "      <td>1</td>\n",
       "      <td>0</td>\n",
       "      <td>0</td>\n",
       "      <td>0</td>\n",
       "      <td>0</td>\n",
       "      <td>...</td>\n",
       "      <td>1</td>\n",
       "      <td>0</td>\n",
       "      <td>0</td>\n",
       "      <td>0</td>\n",
       "      <td>0</td>\n",
       "      <td>0</td>\n",
       "      <td>0</td>\n",
       "      <td>1</td>\n",
       "      <td>1</td>\n",
       "      <td>0</td>\n",
       "    </tr>\n",
       "  </tbody>\n",
       "</table>\n",
       "<p>5 rows × 21 columns</p>\n",
       "</div>"
      ],
      "text/plain": [
       "       Region_Employment  NO_Trainings_LstYear   Age  previous_year_rating  \\\n",
       "9629                  13                     1  36.0                   3.0   \n",
       "44881                  4                     1  31.0                   5.0   \n",
       "37009                  4                     1  32.0                   3.0   \n",
       "5101                   4                     1  34.0                   5.0   \n",
       "52772                 23                     1  42.0                   5.0   \n",
       "\n",
       "       Avg_Training_Score  Is Promoted  Department_-  Department_Analytics  \\\n",
       "9629                 79.0            1             0                     0   \n",
       "44881                85.0            1             0                     0   \n",
       "37009                54.0            1             0                     0   \n",
       "5101                 58.0            1             0                     0   \n",
       "52772                56.0            1             0                     0   \n",
       "\n",
       "       Department_Finance  Department_HR  ...  Department_Operations  \\\n",
       "9629                    0              0  ...                      0   \n",
       "44881                   0              0  ...                      0   \n",
       "37009                   0              0  ...                      1   \n",
       "5101                    1              0  ...                      0   \n",
       "52772                   0              0  ...                      1   \n",
       "\n",
       "       Department_Procurement  Department_R&D  Department_Sales & Marketing  \\\n",
       "9629                        1               0                             0   \n",
       "44881                       0               0                             0   \n",
       "37009                       0               0                             0   \n",
       "5101                        0               0                             0   \n",
       "52772                       0               0                             0   \n",
       "\n",
       "       Department_Technology  Education Level_Bachelor's  \\\n",
       "9629                       0                           0   \n",
       "44881                      1                           0   \n",
       "37009                      0                           1   \n",
       "5101                       0                           0   \n",
       "52772                      0                           0   \n",
       "\n",
       "       Education Level_Below Secondary  Education Level_Master's & above  \\\n",
       "9629                                 0                                 1   \n",
       "44881                                0                                 1   \n",
       "37009                                0                                 0   \n",
       "5101                                 0                                 1   \n",
       "52772                                0                                 1   \n",
       "\n",
       "       Awards_NO  Awards_YES  \n",
       "9629           0           1  \n",
       "44881          1           0  \n",
       "37009          1           0  \n",
       "5101           1           0  \n",
       "52772          1           0  \n",
       "\n",
       "[5 rows x 21 columns]"
      ]
     },
     "execution_count": 266,
     "metadata": {},
     "output_type": "execute_result"
    }
   ],
   "source": [
    "df.head()"
   ]
  },
  {
   "cell_type": "code",
   "execution_count": 267,
   "metadata": {},
   "outputs": [
    {
     "data": {
      "text/plain": [
       "Region_Employment                   0\n",
       "NO_Trainings_LstYear                0\n",
       "Age                                 0\n",
       "previous_year_rating                0\n",
       "Avg_Training_Score                  0\n",
       "Is Promoted                         0\n",
       "Department_-                        0\n",
       "Department_Analytics                0\n",
       "Department_Finance                  0\n",
       "Department_HR                       0\n",
       "Department_Legal                    0\n",
       "Department_Operations               0\n",
       "Department_Procurement              0\n",
       "Department_R&D                      0\n",
       "Department_Sales & Marketing        0\n",
       "Department_Technology               0\n",
       "Education Level_Bachelor's          0\n",
       "Education Level_Below Secondary     0\n",
       "Education Level_Master's & above    0\n",
       "Awards_NO                           0\n",
       "Awards_YES                          0\n",
       "dtype: int64"
      ]
     },
     "execution_count": 267,
     "metadata": {},
     "output_type": "execute_result"
    }
   ],
   "source": [
    "df.isnull().sum()"
   ]
  },
  {
   "cell_type": "code",
   "execution_count": 268,
   "metadata": {},
   "outputs": [],
   "source": [
    "indp_x = df.drop('Is Promoted', axis=1)\n",
    "dep_y = df['Is Promoted']"
   ]
  },
  {
   "cell_type": "code",
   "execution_count": 269,
   "metadata": {},
   "outputs": [],
   "source": [
    "x_train, x_test, y_train, y_test = train_test_split(indp_x, dep_y, test_size=0.2, random_state=42)      # splitting tarin and test in 80:20 ratio"
   ]
  },
  {
   "cell_type": "code",
   "execution_count": 270,
   "metadata": {},
   "outputs": [
    {
     "name": "stdout",
     "output_type": "stream",
     "text": [
      "Confusion Matrix:\n",
      " [8196  694 2410 2302]\n"
     ]
    },
    {
     "data": {
      "text/plain": [
       "<sklearn.metrics._plot.confusion_matrix.ConfusionMatrixDisplay at 0x222bfcde250>"
      ]
     },
     "execution_count": 270,
     "metadata": {},
     "output_type": "execute_result"
    },
    {
     "data": {
      "image/png": "[encoded data removed]",
      "text/plain": [
       "<Figure size 640x480 with 2 Axes>"
      ]
     },
     "metadata": {},
     "output_type": "display_data"
    }
   ],
   "source": [
    "log_reg = make_pipeline(StandardScaler(), LogisticRegression())     #\n",
    "log_reg.fit(x_train, y_train)\n",
    "\n",
    "y_predict = log_reg.predict(x_test)\n",
    "confusion_mat = confusion_matrix(y_test, y_predict)\n",
    "print('Confusion Matrix:\\n', confusion_mat.ravel())\n",
    "cm = ConfusionMatrixDisplay(confusion_mat)\n",
    "cm.plot()"
   ]
  },
  {
   "cell_type": "code",
   "execution_count": 280,
   "metadata": {},
   "outputs": [
    {
     "name": "stdout",
     "output_type": "stream",
     "text": [
      "Accuracy: 0.7718\n",
      "Precision: 0.7684\n",
      "Recall: 0.4885\n",
      "F1 Score: 0.5973\n",
      "ROC AUC: 0.7052\n"
     ]
    },
    {
     "data": {
      "image/png": "[encoded data removed]",
      "text/plain": [
       "<Figure size 800x600 with 1 Axes>"
      ]
     },
     "metadata": {},
     "output_type": "display_data"
    },
    {
     "name": "stdout",
     "output_type": "stream",
     "text": [
      "Confusion Matrix:\n",
      "[[8196  694]\n",
      " [2410 2302]]\n"
     ]
    }
   ],
   "source": [
    "from sklearn.metrics import accuracy_score, precision_score, recall_score, f1_score, roc_auc_score, roc_curve, confusion_matrix\n",
    "import matplotlib.pyplot as plt\n",
    "\n",
    "\n",
    "# Calculate and print accuracy\n",
    "accuracy = accuracy_score(y_test, y_predict)\n",
    "print(f'Accuracy: {accuracy:.4f}')\n",
    "\n",
    "# Calculate and print precision, recall, and F1 score\n",
    "precision = precision_score(y_test, y_predict)\n",
    "recall = recall_score(y_test, y_predict)\n",
    "f1 = f1_score(y_test, y_predict)\n",
    "\n",
    "print(f'Precision: {precision:.4f}')\n",
    "print(f'Recall: {recall:.4f}')\n",
    "print(f'F1 Score: {f1:.4f}')\n",
    "\n",
    "# Calculate and print ROC AUC\n",
    "roc_auc = roc_auc_score(y_test, y_predict)\n",
    "print(f'ROC AUC: {roc_auc:.4f}')\n",
    "\n",
    "# Plot ROC curve\n",
    "fpr, tpr, thresholds = roc_curve(y_test, y_predict)\n",
    "plt.figure(figsize=(8, 6))\n",
    "plt.plot(fpr, tpr, color='darkorange', lw=2, label='ROC curve')\n",
    "plt.plot([0, 1], [0, 1], color='navy', lw=2, linestyle='--')\n",
    "plt.xlabel('False Positive Rate')\n",
    "plt.ylabel('True Positive Rate')\n",
    "plt.title('Receiver Operating Characteristic (ROC) Curve')\n",
    "plt.legend(loc='lower right')\n",
    "plt.show()\n",
    "\n",
    "# Print confusion matrix\n",
    "conf_matrix = confusion_matrix(y_test, y_predict)\n",
    "print('Confusion Matrix:')\n",
    "print(conf_matrix)\n"
   ]
  },
  {
   "cell_type": "code",
   "execution_count": 272,
   "metadata": {},
   "outputs": [
    {
     "name": "stdout",
     "output_type": "stream",
     "text": [
      "              precision    recall  f1-score   support\n",
      "\n",
      "           0       0.77      0.92      0.84      8890\n",
      "           1       0.77      0.49      0.60      4712\n",
      "\n",
      "    accuracy                           0.77     13602\n",
      "   macro avg       0.77      0.71      0.72     13602\n",
      "weighted avg       0.77      0.77      0.76     13602\n",
      "\n"
     ]
    }
   ],
   "source": [
    "print(classification_report(y_test, y_predict))"
   ]
  },
  {
   "cell_type": "markdown",
   "metadata": {},
   "source": [
    "### XGBoost"
   ]
  },
  {
   "cell_type": "code",
   "execution_count": 277,
   "metadata": {},
   "outputs": [
    {
     "name": "stdout",
     "output_type": "stream",
     "text": [
      "Validation Accuracy: 0.8234818409057492\n",
      "Validation Precision: 0.8319448434357943\n",
      "Validation Recall: 0.6146010186757216\n",
      "Validation F1-Score: 0.7069449530086659\n"
     ]
    }
   ],
   "source": [
    "import xgboost as xgb\n",
    "\n",
    "# Creating a DMatrix for XGBoost\n",
    "dtrain = xgb.DMatrix(x_train, label=y_train)\n",
    "dtest = xgb.DMatrix(x_test, label=y_test)\n",
    "\n",
    "# XGBoost parameters\n",
    "params = {\n",
    "    'objective': 'multi:softmax',  # Multiclass classification\n",
    "    'num_class': 10,  # Number of classes\n",
    "    'max_depth': 6,  # Maximum depth of trees\n",
    "    'eta': 0.3,  # Learning rate\n",
    "}\n",
    "\n",
    "num_round = 100  # Number of boosting rounds\n",
    "\n",
    "# Training the XGBoost model\n",
    "xgmodel = xgb.train(params, dtrain, num_round)\n",
    "y_pred = xgmodel.predict(dtest)\n",
    "\n",
    "# Evaluating the model's performance\n",
    "xg_accuracy = accuracy_score(y_test, y_pred)\n",
    "xg_precision = precision_score(y_test, y_pred)\n",
    "xg_recall = recall_score(y_test, y_pred)\n",
    "xg_f1 = f1_score(y_test, y_pred)\n",
    "\n",
    "print(\"Validation Accuracy:\", xg_accuracy)\n",
    "print(\"Validation Precision:\", xg_precision)\n",
    "print(\"Validation Recall:\", xg_recall)\n",
    "print(\"Validation F1-Score:\", xg_f1)"
   ]
  },
  {
   "cell_type": "code",
   "execution_count": 287,
   "metadata": {},
   "outputs": [
    {
     "data": {
      "image/png": "[encoded data removed]",
      "text/plain": [
       "<Figure size 640x480 with 1 Axes>"
      ]
     },
     "metadata": {},
     "output_type": "display_data"
    },
    {
     "data": {
      "image/png": "[encoded data removed]",
      "text/plain": [
       "<Figure size 640x480 with 1 Axes>"
      ]
     },
     "metadata": {},
     "output_type": "display_data"
    }
   ],
   "source": [
    "# comparing Accuracies of both models.\n",
    "labels = ['Logistic Regression Model', 'XGBoost Model']\n",
    "accuracy_scores = [accuracy, xg_accuracy]\n",
    "\n",
    "# Add other metrics to the lists if needed\n",
    "precision_scores = [precision, xg_precision]\n",
    "recall_scores = [recall, xg_recall]\n",
    "f1_scores = [f1, xg_f1]\n",
    "\n",
    "# Bar plot for accuracy\n",
    "plt.bar(labels, accuracy_scores, color=['red', 'green'])\n",
    "plt.title('Model Comparison - Accuracy')\n",
    "plt.ylabel('Accuracy')\n",
    "plt.show()\n",
    "\n",
    "# precision\n",
    "plt.bar(labels, precision_scores, color=['red', 'green'])\n",
    "plt.title('Model Comparison - Precision')\n",
    "plt.ylabel('Precision')\n",
    "plt.show()"
   ]
  },
  {
   "cell_type": "code",
   "execution_count": null,
   "metadata": {},
   "outputs": [],
   "source": []
  }
 ],
 "metadata": {
  "kernelspec": {
   "display_name": "Python 3",
   "language": "python",
   "name": "python3"
  },
  "language_info": {
   "codemirror_mode": {
    "name": "ipython",
    "version": 3
   },
   "file_extension": ".py",
   "mimetype": "text/x-python",
   "name": "python",
   "nbconvert_exporter": "python",
   "pygments_lexer": "ipython3",
   "version": "3.9.7"
  }
 },
 "nbformat": 4,
 "nbformat_minor": 2
}
